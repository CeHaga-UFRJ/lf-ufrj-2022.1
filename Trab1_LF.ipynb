{
  "nbformat": 4,
  "nbformat_minor": 0,
  "metadata": {
    "colab": {
      "name": "Trab1 - LF.ipynb",
      "provenance": [],
      "collapsed_sections": []
    },
    "kernelspec": {
      "name": "python3",
      "display_name": "Python 3"
    },
    "language_info": {
      "name": "python"
    }
  },
  "cells": [
    {
      "cell_type": "markdown",
      "source": [
        "Cria classe"
      ],
      "metadata": {
        "id": "l3RtUetEsnTs"
      }
    },
    {
      "cell_type": "code",
      "source": [
        "class Dfa:\n",
        "  def __init__(self, s0, sf, q, alpha, delta):\n",
        "    self.s0 = s0\n",
        "    self.sf = sf\n",
        "    self.q = q\n",
        "    self.alpha = alpha\n",
        "    self.delta = delta\n",
        "\n",
        "  def trans(self, state, ch):\n",
        "    try:\n",
        "      return self.delta[self.q.index(state)][self.alpha.index(ch)]\n",
        "    except ValueError:\n",
        "      return None"
      ],
      "metadata": {
        "id": "__93zkdJoTBv"
      },
      "execution_count": null,
      "outputs": []
    },
    {
      "cell_type": "markdown",
      "source": [
        "Função de aceitar subpalavra"
      ],
      "metadata": {
        "id": "86X64P9PsqUA"
      }
    },
    {
      "cell_type": "code",
      "execution_count": null,
      "metadata": {
        "id": "1iICUZE8oP4x"
      },
      "outputs": [],
      "source": [
        "def word_rec(word: str, dfa: Dfa):\n",
        "  state = dfa.s0\n",
        "  lexema = \"\"\n",
        "  stack = []\n",
        "  \n",
        "  for ch in word:\n",
        "    lexema += ch\n",
        "    if(state in dfa.sf):\n",
        "      stack = []\n",
        "    stack.append(state)\n",
        "    state = dfa.trans(state, ch)\n",
        "    if(state == None): break\n",
        "  \n",
        "  while(state not in dfa.sf and len(stack) != 0):\n",
        "    state = stack.pop()\n",
        "    lexema = lexema[:-1]\n",
        "  \n",
        "  if(state in dfa.sf):\n",
        "    return lexema\n",
        "  \n",
        "  raise Exception(\"Invalid word\")\n"
      ]
    },
    {
      "cell_type": "markdown",
      "source": [
        "Mostra exemplos"
      ],
      "metadata": {
        "id": "ECozR7QQszgp"
      }
    },
    {
      "cell_type": "markdown",
      "source": [
        "Palavras que começam com \", qualquer caracter, terminam com \""
      ],
      "metadata": {
        "id": "-YOcIHsmvJKW"
      }
    },
    {
      "cell_type": "code",
      "source": [
        "#@title Entre com a palavra\n",
        "s0 = 1\n",
        "sf = [4]\n",
        "q = [1, 2, 3, 4]\n",
        "alpha = ['a','b','c','d','e','f','g','h','i','j','k','l','m','n','o','p','q','r','s','t','u','v','w','x','y','z','A','B','C','D','E','F','G','H','I','J','K','L','M','N','O','P','Q','R','S','T','U','V','W','X','Y','Z','0','1','2','3','4','5','6','7','8','9','\"']\n",
        "delta = [\n",
        "  [None,None,None,None,None,None,None,None,None,None,None,None,None,None,None,None,None,None,None,None,None,None,None,None,None,None,None,None,None,None,None,None,None,None,None,None,None,None,None,None,None,None,None,None,None,None,None,None,None,None,None,None,None,None,None,None,None,None,None,None,None,None,2],\n",
        "  [3,3,3,3,3,3,3,3,3,3,3,3,3,3,3,3,3,3,3,3,3,3,3,3,3,3,3,3,3,3,3,3,3,3,3,3,3,3,3,3,3,3,3,3,3,3,3,3,3,3,3,3,3,3,3,3,3,3,3,3,3,3,4],\n",
        "  [3,3,3,3,3,3,3,3,3,3,3,3,3,3,3,3,3,3,3,3,3,3,3,3,3,3,3,3,3,3,3,3,3,3,3,3,3,3,3,3,3,3,3,3,3,3,3,3,3,3,3,3,3,3,3,3,3,3,3,3,3,3,4],\n",
        "  [3,3,3,3,3,3,3,3,3,3,3,3,3,3,3,3,3,3,3,3,3,3,3,3,3,3,3,3,3,3,3,3,3,3,3,3,3,3,3,3,3,3,3,3,3,3,3,3,3,3,3,3,3,3,3,3,3,3,3,3,3,3,4]\n",
        "]\n",
        "\n",
        "dfa = Dfa(s0, sf, q, alpha, delta)\n",
        "\n",
        "word = \"\\\"\\\"\\\"a\" #@param {type:\"string\"}\n",
        "\n",
        "word_rec(word, dfa)"
      ],
      "metadata": {
        "colab": {
          "base_uri": "https://localhost:8080/",
          "height": 35
        },
        "id": "X2BxU5JopR1x",
        "outputId": "165c2806-c46d-4e98-f226-7f339591d970"
      },
      "execution_count": null,
      "outputs": [
        {
          "output_type": "execute_result",
          "data": {
            "text/plain": [
              "'\"\"\"'"
            ],
            "application/vnd.google.colaboratory.intrinsic+json": {
              "type": "string"
            }
          },
          "metadata": {},
          "execution_count": 68
        }
      ]
    },
    {
      "cell_type": "code",
      "source": [
        "#@title Entre com a palavra\n",
        "s0 = 1\n",
        "sf = [10]\n",
        "q = [1, 2, 3, 4, 5, 6, 7, 8, 9, 10]\n",
        "alpha = ['0','1','2','3','4','5','6','7','8','9']\n",
        "delta = [\n",
        "  [None, None, None, None, None, None, None, None, None, 2],\n",
        "  [3, 3, 3, 3, 3, 3, 3, 3, 3, 3],\n",
        "  [4, 4, 4, 4, 4, 4, 4, 4, 4, 4],\n",
        "  [5, 5, 5, 5, 5, 5, 5, 5, 5, 5],\n",
        "  [6, 6, 6, 6, 6, 6, 6, 6, 6, 6],\n",
        "  [7, 7, 7, 7, 7, 7, 7, 7, 7, 7],\n",
        "  [8, 8, 8, 8, 8, 8, 8, 8, 8, 8],\n",
        "  [9, 9, 9, 9, 9, 9, 9, 9, 9, 9],\n",
        "  [10, 10, 10, 10, 10, 10, 10, 10, 10, 10],\n",
        "  [None, None, None, None, None, None, None, None, None, None]\n",
        "]\n",
        "\n",
        "dfa = Dfa(s0, sf, q, alpha, delta)\n",
        "\n",
        "word = \"912345678a4534\" #@param {type:\"string\"}\n",
        "\n",
        "word_rec(word, dfa)"
      ],
      "metadata": {
        "colab": {
          "base_uri": "https://localhost:8080/",
          "height": 35
        },
        "id": "tfYcxOM6xFLX",
        "outputId": "c5acbf49-6fd5-40ad-85fd-dad6728416fa"
      },
      "execution_count": null,
      "outputs": [
        {
          "output_type": "execute_result",
          "data": {
            "text/plain": [
              "'912345678'"
            ],
            "application/vnd.google.colaboratory.intrinsic+json": {
              "type": "string"
            }
          },
          "metadata": {},
          "execution_count": 80
        }
      ]
    }
  ]
}